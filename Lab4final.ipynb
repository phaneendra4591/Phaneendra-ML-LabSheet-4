{
 "cells": [
  {
   "cell_type": "code",
   "execution_count": 3,
   "metadata": {},
   "outputs": [],
   "source": [
    "import numpy as np\n",
    "import matplotlib.pyplot as plt\n",
    "from sklearn.metrics import mean_squared_error\n",
    "import pandas as pd"
   ]
  },
  {
   "cell_type": "code",
   "execution_count": 4,
   "metadata": {},
   "outputs": [
    {
     "data": {
      "image/png": "[encoded data removed]",
      "text/plain": [
       "<Figure size 432x288 with 1 Axes>"
      ]
     },
     "metadata": {
      "needs_background": "light"
     },
     "output_type": "display_data"
    }
   ],
   "source": [
    "#Create an array x = [1, 1, 2, 3, 4, 3, 4, 6, 4] using numpy. Calculate a function h(x) = t0+t1*x, where t0 = 1.2 and t1 = 0.5, for all values of x and plot a graph with x on one axis and h(x)on another axis\n",
    "arr = np.array([1, 1, 2, 3, 4, 3, 4, 6, 4])\n",
    "t1 = 0.5\n",
    "t0 = 1.2\n",
    "y =[]\n",
    "\n",
    "for x in arr:\n",
    "    y.append(t0+t1*x)\n",
    "\n",
    "#print(y)\n",
    "\n",
    "plt.title(\"Linear Graph\")\n",
    "plt.plot(arr,y)\n",
    "plt.xlabel('Array X')\n",
    "plt.ylabel('h(X)')\n",
    "\n",
    "plt.show()"
   ]
  },
  {
   "cell_type": "code",
   "execution_count": 5,
   "metadata": {},
   "outputs": [
    {
     "name": "stdout",
     "output_type": "stream",
     "text": [
      "82.0\n"
     ]
    }
   ],
   "source": [
    "#Create two arrays A and B with the following values using numpy array. Let (Ai,Bi) represent a data point with i th element of A and B.¶\n",
    "#A = [1, 1, 2, 3, 4, 3, 4, 6, 4] B = [2, 1, 0.5, 1, 3, 3, 2, 5, 4] Find out the dot product of the vectors. [Hint use numpy np.dot(a,b)]\n",
    "\n",
    "A = np.array([1, 1, 2, 3, 4, 3, 4, 6, 4] )\n",
    "B = np.array( [2, 1, 0.5, 1, 3, 3, 2, 5, 4])\n",
    "\n",
    "dotProduct = np.dot(A,B)\n",
    "\n",
    "print(dotProduct)"
   ]
  },
  {
   "cell_type": "code",
   "execution_count": 6,
   "metadata": {},
   "outputs": [
    {
     "data": {
      "image/png": "[encoded data removed]",
      "text/plain": [
       "<Figure size 432x288 with 1 Axes>"
      ]
     },
     "metadata": {
      "needs_background": "light"
     },
     "output_type": "display_data"
    }
   ],
   "source": [
    "#3.\tPlot a graph marking the data points (Ai,Bi) with A on the X-axis and B on the Y-axis.\n",
    "\n",
    "plt.xlabel('Ai')\n",
    "plt.ylabel('Bi')\n",
    "\n",
    "plt.title(\"Scatter Plot\")\n",
    "plt.scatter(A,B)\n",
    "plt.show()"
   ]
  },
  {
   "cell_type": "code",
   "execution_count": 7,
   "metadata": {},
   "outputs": [
    {
     "name": "stdout",
     "output_type": "stream",
     "text": [
      "1.4722222222222223\n"
     ]
    }
   ],
   "source": [
    "mean_square_error = np.sum((A-B)**2)/len(A)\n",
    "\n",
    "print(mean_square_error)"
   ]
  },
  {
   "cell_type": "code",
   "execution_count": 9,
   "metadata": {},
   "outputs": [
    {
     "name": "stdout",
     "output_type": "stream",
     "text": [
      "[2.996111111111111, 1.653888888888889, 0.7916666666666666, 0.4094444444444445, 0.3983333333333334]\n"
     ]
    }
   ],
   "source": [
    "def compute_cost_function(n,t1,A,B):\n",
    "    sum_squared_error = np.square(np.dot(A, t1)- B).sum()\n",
    "    cost = sum_squared_error / (2*n)\n",
    "    return cost\n",
    "\n",
    "x_t1 = [0.1,0.3,0.5,0.7,0.8]\n",
    "y =[]\n",
    "for x in x_t1:\n",
    "    y.append(compute_cost_function(len(A),x,A,B))\n",
    "\n",
    "print(y)"
   ]
  },
  {
   "cell_type": "code",
   "execution_count": 10,
   "metadata": {},
   "outputs": [
    {
     "data": {
      "image/png": "[encoded data removed]",
      "text/plain": [
       "<Figure size 432x288 with 1 Axes>"
      ]
     },
     "metadata": {
      "needs_background": "light"
     },
     "output_type": "display_data"
    }
   ],
   "source": [
    "plt.xlabel('t1')\n",
    "plt.ylabel('J(t1)')\n",
    "\n",
    "plt.plot(x_t1,y)\n",
    "plt.show()"
   ]
  },
  {
   "cell_type": "code",
   "execution_count": 12,
   "metadata": {},
   "outputs": [],
   "source": [
    "x='student_dataset.csv'\n",
    "df = pd.read_csv(x)"
   ]
  },
  {
   "cell_type": "code",
   "execution_count": 13,
   "metadata": {},
   "outputs": [
    {
     "name": "stdout",
     "output_type": "stream",
     "text": [
      "    school sex  age address famsize Pstatus  Medu  Fedu      Mjob      Fjob  \\\n",
      "0       GP   F   18       U     GT3       A     4     4   at_home   teacher   \n",
      "1       GP   F   17       U     GT3       T     1     1   at_home     other   \n",
      "2       GP   F   15       U     LE3       T     1     1   at_home     other   \n",
      "3       GP   F   15       U     GT3       T     4     2    health  services   \n",
      "4       GP   F   16       U     GT3       T     3     3     other     other   \n",
      "..     ...  ..  ...     ...     ...     ...   ...   ...       ...       ...   \n",
      "390     MS   M   20       U     LE3       A     2     2  services  services   \n",
      "391     MS   M   17       U     LE3       T     3     1  services  services   \n",
      "392     MS   M   21       R     GT3       T     1     1     other     other   \n",
      "393     MS   M   18       R     LE3       T     3     2  services     other   \n",
      "394     MS   M   19       U     LE3       T     1     1     other   at_home   \n",
      "\n",
      "     ... famrel freetime  goout  Dalc  Walc health absences  G1  G2  G3  \n",
      "0    ...      4        3      4     1     1      3        6   5   6   6  \n",
      "1    ...      5        3      3     1     1      3        4   5   5   6  \n",
      "2    ...      4        3      2     2     3      3       10   7   8  10  \n",
      "3    ...      3        2      2     1     1      5        2  15  14  15  \n",
      "4    ...      4        3      2     1     2      5        4   6  10  10  \n",
      "..   ...    ...      ...    ...   ...   ...    ...      ...  ..  ..  ..  \n",
      "390  ...      5        5      4     4     5      4       11   9   9   9  \n",
      "391  ...      2        4      5     3     4      2        3  14  16  16  \n",
      "392  ...      5        5      3     3     3      3        3  10   8   7  \n",
      "393  ...      4        4      1     3     4      5        0  11  12  10  \n",
      "394  ...      3        2      3     3     3      5        5   8   9   9  \n",
      "\n",
      "[395 rows x 33 columns]\n"
     ]
    }
   ],
   "source": [
    "print(df)"
   ]
  },
  {
   "cell_type": "code",
   "execution_count": 14,
   "metadata": {},
   "outputs": [
    {
     "data": {
      "text/plain": [
       "0      2\n",
       "1      2\n",
       "2      2\n",
       "3      3\n",
       "4      2\n",
       "      ..\n",
       "390    2\n",
       "391    1\n",
       "392    1\n",
       "393    1\n",
       "394    1\n",
       "Name: studytime, Length: 395, dtype: int64"
      ]
     },
     "execution_count": 14,
     "metadata": {},
     "output_type": "execute_result"
    }
   ],
   "source": [
    "df['studytime']"
   ]
  },
  {
   "cell_type": "code",
   "execution_count": 15,
   "metadata": {},
   "outputs": [
    {
     "name": "stdout",
     "output_type": "stream",
     "text": [
      "[2 2 2 3 2 2 2 2 2 2 2 3 1 2 3 1 3 2 1 1 2 1 2 2 3 1 1 1 2 2 2 2 2 2 1 1 3\n",
      " 3 3 1 2 1 2 1 2 2 2 4 2 2 2 2 1 1 1 2 2 2 2 2 2 1 2 3 2 2 4 4 2 4 4 4 2 1\n",
      " 2 2 4 4 1 2 1 3 2 2 2 2 2 3 2 2 3 1 2 2 4 4 1 2 1 3 1 3 1 2 2 4 4 3 4 3 1\n",
      " 3 2 1 2 2 2 1 2 1 2 4 2 1 2 1 2 2 1 1 3 1 1 1 2 3 2 1 2 1 4 1 3 1 1 2 2 2\n",
      " 1 1 1 1 3 1 1 2 1 1 1 2 1 2 1 1 2 1 2 2 2 2 1 2 2 2 2 2 2 2 1 2 2 2 2 2 2\n",
      " 2 1 2 2 2 2 2 2 1 1 2 1 1 1 2 2 2 2 1 4 3 2 2 1 3 4 2 2 2 1 2 2 2 1 3 2 3\n",
      " 2 2 3 2 2 2 2 3 2 2 2 2 2 3 2 1 2 2 2 2 1 1 3 1 1 1 2 1 1 2 1 1 1 1 4 2 2\n",
      " 4 2 2 3 3 3 2 2 2 2 2 2 4 2 2 2 2 2 1 2 1 1 1 4 2 2 2 3 3 3 2 2 3 2 4 3 1\n",
      " 2 2 4 1 2 1 3 4 2 2 1 1 2 2 2 2 2 2 3 3 2 3 3 2 2 2 3 3 3 3 1 1 3 3 4 3 2\n",
      " 2 4 3 3 2 4 2 3 2 2 2 3 3 3 3 3 1 2 2 1 1 2 2 2 2 1 3 2 2 2 2 2 2 3 1 1 2\n",
      " 2 1 3 1 3 3 3 2 2 2 2 1 2 1 1 3 1 3 2 2 2 1 1 1 1]\n",
      "[ 5.66666667  5.33333333  8.33333333 14.66666667  8.66666667 15.\n",
      " 11.66666667  5.66666667 17.66666667 14.66666667  9.         11.33333333\n",
      " 14.         10.33333333 15.33333333 14.         13.66666667  9.33333333\n",
      "  5.33333333  9.33333333 14.         14.         15.33333333 12.66666667\n",
      "  9.          7.66666667 11.66666667 15.33333333 11.         11.\n",
      " 10.66666667 16.66666667 16.33333333 10.         13.66666667  7.\n",
      " 16.33333333 15.33333333 11.66666667 13.33333333  9.33333333 12.\n",
      " 18.33333333  9.          9.66666667  7.33333333 11.33333333 19.33333333\n",
      " 14.66666667  7.         12.66666667 12.33333333 10.66666667  9.66666667\n",
      " 12.          9.         14.66666667 14.66666667  9.33333333 15.66666667\n",
      " 10.66666667  9.66666667  9.          9.33333333 10.         15.33333333\n",
      " 12.66666667  6.66666667  8.33333333 16.         14.33333333 10.\n",
      "  6.33333333 12.66666667 11.33333333  9.33333333 10.66666667 11.\n",
      "  8.66666667  5.         11.33333333 10.66666667  6.33333333 15.\n",
      "  9.66666667  8.          7.         13.66666667 10.33333333  7.\n",
      "  7.33333333 17.          6.33333333 10.33333333 12.66666667  9.\n",
      " 13.66666667  9.         13.          8.          6.33333333 16.66666667\n",
      " 12.33333333  6.33333333 17.33333333 10.66666667  7.66666667 17.33333333\n",
      " 12.         15.         18.66666667  9.         12.         18.66666667\n",
      "  9.         15.33333333 12.66666667 13.33333333  8.         13.33333333\n",
      " 15.33333333 15.         13.         12.66666667  7.66666667 12.66666667\n",
      "  9.33333333  8.          3.66666667 18.          4.          2.66666667\n",
      " 11.66666667 11.33333333  3.          3.66666667  3.33333333  1.33333333\n",
      " 12.66666667 15.66666667  5.33333333  9.         10.33333333 13.66666667\n",
      "  1.66666667 10.          4.33333333 10.66666667  4.33333333  9.\n",
      "  3.66666667 13.         10.          1.66666667 11.33333333  9.\n",
      " 13.66666667  9.         15.66666667 11.33333333  4.33333333  7.\n",
      "  2.33333333 10.          6.66666667 11.66666667 10.         15.\n",
      "  4.33333333 14.          3.66666667 14.66666667 11.33333333  5.\n",
      " 10.          9.33333333 12.33333333  5.66666667  9.         10.33333333\n",
      "  8.33333333 12.33333333 16.66666667  8.66666667 12.33333333 11.66666667\n",
      " 11.33333333 15.          8.          9.         12.          8.33333333\n",
      "  7.66666667  9.         13.66666667 14.66666667 16.          9.33333333\n",
      " 18.          9.33333333 16.          9.33333333  9.33333333  6.33333333\n",
      " 10.33333333  9.33333333  7.         12.          9.33333333  7.\n",
      "  8.         12.33333333 13.          7.          9.33333333 14.66666667\n",
      "  5.33333333  6.66666667  7.33333333  9.66666667  6.          3.66666667\n",
      " 16.33333333 12.66666667 13.33333333  8.         15.33333333 11.66666667\n",
      "  9.         11.33333333 13.33333333 11.          9.66666667 13.33333333\n",
      "  7.33333333 10.         13.33333333 12.33333333 11.66666667  4.66666667\n",
      " 12.         11.          2.         12.33333333  2.33333333 18.\n",
      " 12.33333333  7.33333333  4.33333333 14.33333333  7.33333333  9.\n",
      "  7.66666667  8.33333333 10.66666667  8.         13.         11.\n",
      " 14.33333333  6.33333333 17.66666667  8.         12.33333333  9.33333333\n",
      "  6.33333333 17.          9.33333333 11.          9.66666667  2.\n",
      "  9.         14.33333333 11.         14.33333333 10.         12.\n",
      "  9.33333333  9.          8.33333333 10.33333333  8.         10.\n",
      " 12.          9.         10.         11.         18.33333333 12.33333333\n",
      " 14.33333333 14.33333333 11.33333333 15.         12.33333333 18.\n",
      " 13.66666667 12.33333333  6.33333333  8.66666667 13.66666667 15.66666667\n",
      " 11.         10.66666667 13.66666667 17.33333333 14.         12.66666667\n",
      " 17.66666667  8.33333333 13.         10.66666667  6.         13.\n",
      " 11.66666667 11.33333333 13.66666667 11.66666667  5.33333333  9.33333333\n",
      " 10.66666667 11.         13.          9.66666667 11.         13.66666667\n",
      " 15.33333333 10.66666667 15.         10.33333333  9.33333333 14.\n",
      "  8.33333333 13.33333333  2.33333333  5.33333333  6.33333333 15.33333333\n",
      " 13.33333333  5.         16.          9.66666667 11.33333333  6.66666667\n",
      " 15.33333333  5.66666667 10.33333333 13.33333333 15.66666667  9.66666667\n",
      " 14.33333333 12.33333333  7.66666667 13.          7.66666667  8.\n",
      " 11.66666667  9.33333333 12.66666667 11.66666667 10.         16.66666667\n",
      " 13.         12.33333333 10.66666667 15.33333333 11.66666667 10.\n",
      " 13.          4.33333333 10.33333333 12.33333333  7.66666667 12.66666667\n",
      " 11.66666667  5.33333333 18.66666667  8.66666667 14.66666667  9.\n",
      " 15.         10.         14.33333333  6.66666667 10.66666667  3.66666667\n",
      "  5.33333333  9.66666667  5.66666667  4.          8.          3.66666667\n",
      "  9.         15.33333333  8.33333333 11.          8.66666667]\n"
     ]
    }
   ],
   "source": [
    "X = np.array(df[\"studytime\"])\n",
    "print(X)\n",
    "Y = np.array((df[\"G1\"]+df[\"G2\"]+df[\"G3\"])/3)\n",
    "print(Y)"
   ]
  },
  {
   "cell_type": "code",
   "execution_count": 16,
   "metadata": {},
   "outputs": [
    {
     "data": {
      "text/plain": [
       "Text(0, 0.5, 'Average Grade')"
      ]
     },
     "execution_count": 16,
     "metadata": {},
     "output_type": "execute_result"
    },
    {
     "data": {
      "image/png": "[encoded data removed]",
      "text/plain": [
       "<Figure size 432x288 with 1 Axes>"
      ]
     },
     "metadata": {
      "needs_background": "light"
     },
     "output_type": "display_data"
    }
   ],
   "source": [
    "X = X.reshape(-1,1)\n",
    "Y = Y.reshape(-1,1)\n",
    "plt.scatter(X,Y)\n",
    "plt.xlabel('Study Time')\n",
    "plt.ylabel('Average Grade')"
   ]
  },
  {
   "cell_type": "code",
   "execution_count": 17,
   "metadata": {},
   "outputs": [],
   "source": [
    "from sklearn.model_selection import train_test_split \n",
    "X_train, X_test, Y_train, Y_test = train_test_split(X, Y, test_size=0.2)"
   ]
  },
  {
   "cell_type": "code",
   "execution_count": 18,
   "metadata": {},
   "outputs": [],
   "source": [
    "from sklearn.preprocessing import StandardScaler\n",
    "\n",
    "X_train=StandardScaler().fit_transform(X_train)\n",
    "X_test=StandardScaler().fit_transform(X_test)\n",
    "\n",
    "Y_train=StandardScaler().fit_transform(Y_train)\n",
    "Y_test=StandardScaler().fit_transform(Y_test)"
   ]
  },
  {
   "cell_type": "code",
   "execution_count": 19,
   "metadata": {},
   "outputs": [],
   "source": [
    "from sklearn.linear_model import LinearRegression \n",
    "reg = LinearRegression()\n",
    "reg.fit(X_train,Y_train)\n",
    "Y_pred = reg.predict(X_test)"
   ]
  },
  {
   "cell_type": "code",
   "execution_count": 20,
   "metadata": {},
   "outputs": [
    {
     "data": {
      "text/plain": [
       "[<matplotlib.lines.Line2D at 0x2491f533088>]"
      ]
     },
     "execution_count": 20,
     "metadata": {},
     "output_type": "execute_result"
    },
    {
     "data": {
      "image/png": "[encoded data removed]",
      "text/plain": [
       "<Figure size 432x288 with 1 Axes>"
      ]
     },
     "metadata": {
      "needs_background": "light"
     },
     "output_type": "display_data"
    }
   ],
   "source": [
    "plt.scatter(X_train,Y_train)\n",
    "plt.plot(X_test,Y_pred,color='green')"
   ]
  },
  {
   "cell_type": "code",
   "execution_count": 24,
   "metadata": {},
   "outputs": [
    {
     "name": "stdout",
     "output_type": "stream",
     "text": [
      "Learning rate: 0.1 and theta = [[0.14113509]]\n",
      "Learning rate: 0.2 and theta = [[0.14186421]]\n",
      "Learning rate: 0.3 and theta = [[0.14186624]]\n",
      "Learning rate: 0.4 and theta = [[0.14186624]]\n",
      "Learning rate: 0.5 and theta = [[0.14186624]]\n",
      "Learning rate: 0.6 and theta = [[0.14186624]]\n",
      "Learning rate: 0.7 and theta = [[0.14186624]]\n",
      "Learning rate: 0.8 and theta = [[0.14186624]]\n",
      "Learning rate: 0.9 and theta = [[0.14186624]]\n"
     ]
    }
   ],
   "source": [
    "def gradient_descent(alpha, x, y, max_iter = 50): \n",
    "    # considering h(x) = t1 * x then theta1 ==> t1\n",
    "    theta = 0\n",
    "    m = np.size(x, axis = 0)\n",
    "    xTrans = x.transpose()\n",
    "    for i in range(max_iter):\n",
    "        hypothesis = np.dot(x, theta)\n",
    "        loss= hypothesis - y\n",
    "        cost = np.sum(loss ** 2) / (2 * m)\n",
    "        gradient = np.dot(xTrans, (loss))\n",
    "        theta= theta - (alpha/m) * gradient\n",
    "    return theta\n",
    "\n",
    "theta = gradient_descent(0.01, X_train, Y_train, 50)\n",
    "# print(y_train)\n",
    "\n",
    "#print(theta)\n",
    "\n",
    "for i in range(1, 10):\n",
    "    theta = gradient_descent(i/10, X_train, Y_train, 50)\n",
    "    print(\"Learning rate: \" + str(i/10) + \" and theta = \" + str(theta))"
   ]
  },
  {
   "cell_type": "code",
   "execution_count": 25,
   "metadata": {},
   "outputs": [],
   "source": [
    "def f(x):\n",
    " return 0.5*x[0]**2 + 2.5*x[1]**2"
   ]
  },
  {
   "cell_type": "code",
   "execution_count": 26,
   "metadata": {},
   "outputs": [
    {
     "data": {
      "text/plain": [
       "<matplotlib.contour.QuadContourSet at 0x2491f95b508>"
      ]
     },
     "execution_count": 26,
     "metadata": {},
     "output_type": "execute_result"
    },
    {
     "data": {
      "image/png": "[encoded data removed]",
      "text/plain": [
       "<Figure size 432x288 with 1 Axes>"
      ]
     },
     "metadata": {
      "needs_background": "light"
     },
     "output_type": "display_data"
    }
   ],
   "source": [
    "#plt.axis('equal')\n",
    "xmesh, ymesh = np.mgrid[-2:2:50j,-2:2:50j]\n",
    "fmesh = f(np.array([xmesh, ymesh]))\n",
    "plt.contour(xmesh, ymesh, fmesh)"
   ]
  },
  {
   "cell_type": "code",
   "execution_count": 33,
   "metadata": {},
   "outputs": [],
   "source": [
    "from sklearn.model_selection import RepeatedKFold\n",
    "from sklearn.metrics import max_error,mean_absolute_error,mean_squared_error\n",
    "\n",
    "rkf = RepeatedKFold()\n",
    "for train_index,test_index in rkf.split(X,Y):\n",
    "  X_train,X_test = X[train_index],X[test_index]\n",
    "  Y_train,Y_test = Y[train_index],Y[test_index]"
   ]
  },
  {
   "cell_type": "code",
   "execution_count": 34,
   "metadata": {},
   "outputs": [
    {
     "name": "stdout",
     "output_type": "stream",
     "text": [
      "ME : 18.660203346479047\n",
      "MSE : 130.9629572756985\n",
      "MAE : 10.80590717299578\n",
      "RMSE : 11.44390480892333\n"
     ]
    }
   ],
   "source": [
    "print('ME :',max_error(Y_test,Y_pred))\n",
    "print('MSE :',mean_squared_error(Y_test,Y_pred))\n",
    "print('MAE :',mean_absolute_error(Y_test,Y_pred))\n",
    "print('RMSE :',np.sqrt(mean_squared_error(Y_test,Y_pred)))"
   ]
  },
  {
   "cell_type": "code",
   "execution_count": 35,
   "metadata": {},
   "outputs": [
    {
     "name": "stderr",
     "output_type": "stream",
     "text": [
      "C:\\Users\\venna phaneendra\\Anaconda3\\lib\\site-packages\\sklearn\\model_selection\\_split.py:431: FutureWarning: The default value of n_split will change from 3 to 5 in version 0.22. Specify it explicitly to silence this warning.\n",
      "  warnings.warn(NSPLIT_WARNING, FutureWarning)\n"
     ]
    }
   ],
   "source": [
    "from sklearn.model_selection import KFold\n",
    "\n",
    "kf = KFold()\n",
    "for train_index,test_index in kf.split(X,Y):\n",
    "  X_train,X_test = X[train_index],X[test_index]\n",
    "  Y_train,Y_test = Y[train_index],Y[test_index]"
   ]
  },
  {
   "cell_type": "code",
   "execution_count": 36,
   "metadata": {},
   "outputs": [
    {
     "ename": "ValueError",
     "evalue": "Found input variables with inconsistent numbers of samples: [131, 79]",
     "output_type": "error",
     "traceback": [
      "\u001b[1;31m---------------------------------------------------------------------------\u001b[0m",
      "\u001b[1;31mValueError\u001b[0m                                Traceback (most recent call last)",
      "\u001b[1;32m<ipython-input-36-60e8a7910d62>\u001b[0m in \u001b[0;36m<module>\u001b[1;34m\u001b[0m\n\u001b[1;32m----> 1\u001b[1;33m \u001b[0mprint\u001b[0m\u001b[1;33m(\u001b[0m\u001b[1;34m'ME :'\u001b[0m\u001b[1;33m,\u001b[0m\u001b[0mmax_error\u001b[0m\u001b[1;33m(\u001b[0m\u001b[0mY_test\u001b[0m\u001b[1;33m,\u001b[0m\u001b[0mY_pred\u001b[0m\u001b[1;33m)\u001b[0m\u001b[1;33m)\u001b[0m\u001b[1;33m\u001b[0m\u001b[1;33m\u001b[0m\u001b[0m\n\u001b[0m\u001b[0;32m      2\u001b[0m \u001b[0mprint\u001b[0m\u001b[1;33m(\u001b[0m\u001b[1;34m'MSE :'\u001b[0m\u001b[1;33m,\u001b[0m\u001b[0mmean_squared_error\u001b[0m\u001b[1;33m(\u001b[0m\u001b[0mY_test\u001b[0m\u001b[1;33m,\u001b[0m\u001b[0mY_pred\u001b[0m\u001b[1;33m)\u001b[0m\u001b[1;33m)\u001b[0m\u001b[1;33m\u001b[0m\u001b[1;33m\u001b[0m\u001b[0m\n\u001b[0;32m      3\u001b[0m \u001b[0mprint\u001b[0m\u001b[1;33m(\u001b[0m\u001b[1;34m'MAE :'\u001b[0m\u001b[1;33m,\u001b[0m\u001b[0mmean_absolute_error\u001b[0m\u001b[1;33m(\u001b[0m\u001b[0mY_test\u001b[0m\u001b[1;33m,\u001b[0m\u001b[0mY_pred\u001b[0m\u001b[1;33m)\u001b[0m\u001b[1;33m)\u001b[0m\u001b[1;33m\u001b[0m\u001b[1;33m\u001b[0m\u001b[0m\n\u001b[0;32m      4\u001b[0m \u001b[0mprint\u001b[0m\u001b[1;33m(\u001b[0m\u001b[1;34m'RMSE :'\u001b[0m\u001b[1;33m,\u001b[0m\u001b[0mnp\u001b[0m\u001b[1;33m.\u001b[0m\u001b[0msqrt\u001b[0m\u001b[1;33m(\u001b[0m\u001b[0mmean_squared_error\u001b[0m\u001b[1;33m(\u001b[0m\u001b[0mY_test\u001b[0m\u001b[1;33m,\u001b[0m\u001b[0mY_pred\u001b[0m\u001b[1;33m)\u001b[0m\u001b[1;33m)\u001b[0m\u001b[1;33m)\u001b[0m\u001b[1;33m\u001b[0m\u001b[1;33m\u001b[0m\u001b[0m\n",
      "\u001b[1;32m~\\Anaconda3\\lib\\site-packages\\sklearn\\metrics\\regression.py\u001b[0m in \u001b[0;36mmax_error\u001b[1;34m(y_true, y_pred)\u001b[0m\n\u001b[0;32m    612\u001b[0m     \u001b[1;36m1\u001b[0m\u001b[1;33m\u001b[0m\u001b[1;33m\u001b[0m\u001b[0m\n\u001b[0;32m    613\u001b[0m     \"\"\"\n\u001b[1;32m--> 614\u001b[1;33m     \u001b[0my_type\u001b[0m\u001b[1;33m,\u001b[0m \u001b[0my_true\u001b[0m\u001b[1;33m,\u001b[0m \u001b[0my_pred\u001b[0m\u001b[1;33m,\u001b[0m \u001b[0m_\u001b[0m \u001b[1;33m=\u001b[0m \u001b[0m_check_reg_targets\u001b[0m\u001b[1;33m(\u001b[0m\u001b[0my_true\u001b[0m\u001b[1;33m,\u001b[0m \u001b[0my_pred\u001b[0m\u001b[1;33m,\u001b[0m \u001b[1;32mNone\u001b[0m\u001b[1;33m)\u001b[0m\u001b[1;33m\u001b[0m\u001b[1;33m\u001b[0m\u001b[0m\n\u001b[0m\u001b[0;32m    615\u001b[0m     \u001b[1;32mif\u001b[0m \u001b[0my_type\u001b[0m \u001b[1;33m==\u001b[0m \u001b[1;34m'continuous-multioutput'\u001b[0m\u001b[1;33m:\u001b[0m\u001b[1;33m\u001b[0m\u001b[1;33m\u001b[0m\u001b[0m\n\u001b[0;32m    616\u001b[0m         \u001b[1;32mraise\u001b[0m \u001b[0mValueError\u001b[0m\u001b[1;33m(\u001b[0m\u001b[1;34m\"Multioutput not supported in max_error\"\u001b[0m\u001b[1;33m)\u001b[0m\u001b[1;33m\u001b[0m\u001b[1;33m\u001b[0m\u001b[0m\n",
      "\u001b[1;32m~\\Anaconda3\\lib\\site-packages\\sklearn\\metrics\\regression.py\u001b[0m in \u001b[0;36m_check_reg_targets\u001b[1;34m(y_true, y_pred, multioutput)\u001b[0m\n\u001b[0;32m     75\u001b[0m \u001b[1;33m\u001b[0m\u001b[0m\n\u001b[0;32m     76\u001b[0m     \"\"\"\n\u001b[1;32m---> 77\u001b[1;33m     \u001b[0mcheck_consistent_length\u001b[0m\u001b[1;33m(\u001b[0m\u001b[0my_true\u001b[0m\u001b[1;33m,\u001b[0m \u001b[0my_pred\u001b[0m\u001b[1;33m)\u001b[0m\u001b[1;33m\u001b[0m\u001b[1;33m\u001b[0m\u001b[0m\n\u001b[0m\u001b[0;32m     78\u001b[0m     \u001b[0my_true\u001b[0m \u001b[1;33m=\u001b[0m \u001b[0mcheck_array\u001b[0m\u001b[1;33m(\u001b[0m\u001b[0my_true\u001b[0m\u001b[1;33m,\u001b[0m \u001b[0mensure_2d\u001b[0m\u001b[1;33m=\u001b[0m\u001b[1;32mFalse\u001b[0m\u001b[1;33m)\u001b[0m\u001b[1;33m\u001b[0m\u001b[1;33m\u001b[0m\u001b[0m\n\u001b[0;32m     79\u001b[0m     \u001b[0my_pred\u001b[0m \u001b[1;33m=\u001b[0m \u001b[0mcheck_array\u001b[0m\u001b[1;33m(\u001b[0m\u001b[0my_pred\u001b[0m\u001b[1;33m,\u001b[0m \u001b[0mensure_2d\u001b[0m\u001b[1;33m=\u001b[0m\u001b[1;32mFalse\u001b[0m\u001b[1;33m)\u001b[0m\u001b[1;33m\u001b[0m\u001b[1;33m\u001b[0m\u001b[0m\n",
      "\u001b[1;32m~\\Anaconda3\\lib\\site-packages\\sklearn\\utils\\validation.py\u001b[0m in \u001b[0;36mcheck_consistent_length\u001b[1;34m(*arrays)\u001b[0m\n\u001b[0;32m    203\u001b[0m     \u001b[1;32mif\u001b[0m \u001b[0mlen\u001b[0m\u001b[1;33m(\u001b[0m\u001b[0muniques\u001b[0m\u001b[1;33m)\u001b[0m \u001b[1;33m>\u001b[0m \u001b[1;36m1\u001b[0m\u001b[1;33m:\u001b[0m\u001b[1;33m\u001b[0m\u001b[1;33m\u001b[0m\u001b[0m\n\u001b[0;32m    204\u001b[0m         raise ValueError(\"Found input variables with inconsistent numbers of\"\n\u001b[1;32m--> 205\u001b[1;33m                          \" samples: %r\" % [int(l) for l in lengths])\n\u001b[0m\u001b[0;32m    206\u001b[0m \u001b[1;33m\u001b[0m\u001b[0m\n\u001b[0;32m    207\u001b[0m \u001b[1;33m\u001b[0m\u001b[0m\n",
      "\u001b[1;31mValueError\u001b[0m: Found input variables with inconsistent numbers of samples: [131, 79]"
     ]
    }
   ],
   "source": [
    "print('ME :',max_error(Y_test,Y_pred))\n",
    "print('MSE :',mean_squared_error(Y_test,Y_pred))\n",
    "print('MAE :',mean_absolute_error(Y_test,Y_pred))\n",
    "print('RMSE :',np.sqrt(mean_squared_error(Y_test,Y_pred)))"
   ]
  },
  {
   "cell_type": "code",
   "execution_count": null,
   "metadata": {},
   "outputs": [],
   "source": []
  }
 ],
 "metadata": {
  "kernelspec": {
   "display_name": "Python 3",
   "language": "python",
   "name": "python3"
  },
  "language_info": {
   "codemirror_mode": {
    "name": "ipython",
    "version": 3
   },
   "file_extension": ".py",
   "mimetype": "text/x-python",
   "name": "python",
   "nbconvert_exporter": "python",
   "pygments_lexer": "ipython3",
   "version": "3.7.4"
  }
 },
 "nbformat": 4,
 "nbformat_minor": 2
}
